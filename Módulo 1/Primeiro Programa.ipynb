{
 "cells": [
  {
   "cell_type": "code",
   "execution_count": 4,
   "id": "f3ee6da2",
   "metadata": {},
   "outputs": [
    {
     "name": "stdout",
     "output_type": "stream",
     "text": [
      "3\n",
      "1\n",
      "2\n",
      "1.0\n",
      "1\n"
     ]
    }
   ],
   "source": [
    "print(2+1)\n",
    "print(2-1)\n",
    "print(2*1)\n",
    "print(2/2)\n",
    "print(5%2)"
   ]
  },
  {
   "cell_type": "markdown",
   "id": "78998142",
   "metadata": {},
   "source": [
    "Primeira aula : como usar as operações!"
   ]
  },
  {
   "cell_type": "raw",
   "id": "2b563268",
   "metadata": {},
   "source": [
    "Strings = Concatenar \"+\" e função \"in\" que mostra se um determinado texto está contido em outro"
   ]
  },
  {
   "cell_type": "code",
   "execution_count": 5,
   "id": "56dc5463",
   "metadata": {},
   "outputs": [
    {
     "name": "stdout",
     "output_type": "stream",
     "text": [
      "True\n",
      "Você que lute!\n"
     ]
    }
   ],
   "source": [
    "print('Lira' in 'Lira é meu proferssor')\n",
    "print('Você' + ' que' + ' lute!')"
   ]
  }
 ],
 "metadata": {
  "kernelspec": {
   "display_name": "Python 3",
   "language": "python",
   "name": "python3"
  },
  "language_info": {
   "codemirror_mode": {
    "name": "ipython",
    "version": 3
   },
   "file_extension": ".py",
   "mimetype": "text/x-python",
   "name": "python",
   "nbconvert_exporter": "python",
   "pygments_lexer": "ipython3",
   "version": "3.8.8"
  }
 },
 "nbformat": 4,
 "nbformat_minor": 5
}
