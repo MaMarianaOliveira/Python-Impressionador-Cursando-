{
 "cells": [
  {
   "cell_type": "markdown",
   "metadata": {},
   "source": [
    "# Print de Listas\n",
    "\n",
    "2 Opções:\n",
    "- print \"normal\"\n",
    "- método join -> texto.join(lista)"
   ]
  },
  {
   "cell_type": "code",
   "execution_count": 5,
   "metadata": {},
   "outputs": [
    {
     "name": "stdout",
     "output_type": "stream",
     "text": [
      "apple tv\n",
      " mac\n",
      " iphone x\n",
      " iphone 11\n",
      " IPad\n",
      " apple watch\n",
      " mac book\n",
      " airpods\n"
     ]
    }
   ],
   "source": [
    "produtos = ['apple tv', 'mac', 'iphone x', 'iphone 11', 'IPad', 'apple watch', 'mac book', 'airpods']\n",
    "\n",
    "print('\\n '.join(produtos))#\\n é 'enter'no python e o 'join'é uma maneira de vc apresentar a lista"
   ]
  },
  {
   "cell_type": "markdown",
   "metadata": {},
   "source": [
    "Lembrando do método split de strings:\n",
    "\n",
    "lista = texto.split(separador)"
   ]
  },
  {
   "cell_type": "code",
   "execution_count": 11,
   "metadata": {},
   "outputs": [
    {
     "name": "stdout",
     "output_type": "stream",
     "text": [
      "['apple tv', 'mac', 'iphone x', 'iphone 11', 'IPad', 'apple watch', 'mac book', 'airpods']\n"
     ]
    }
   ],
   "source": [
    "produtos = 'apple tv, mac, iphone x, iphone 11, IPad, apple watch, mac book, airpods'\n",
    "\n",
    "print (produtos.split(', '))#o 'split' tb é uma maneira de printar a lista de forma organizada separando a partir do delimitador que vc colocar, neste exemplo colocamos o ','"
   ]
  }
 ],
 "metadata": {
  "kernelspec": {
   "display_name": "Python 3",
   "language": "python",
   "name": "python3"
  },
  "language_info": {
   "codemirror_mode": {
    "name": "ipython",
    "version": 3
   },
   "file_extension": ".py",
   "mimetype": "text/x-python",
   "name": "python",
   "nbconvert_exporter": "python",
   "pygments_lexer": "ipython3",
   "version": "3.8.8"
  }
 },
 "nbformat": 4,
 "nbformat_minor": 4
}
