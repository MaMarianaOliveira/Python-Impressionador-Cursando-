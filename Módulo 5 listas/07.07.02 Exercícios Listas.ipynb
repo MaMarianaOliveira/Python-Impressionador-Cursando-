{
 "cells": [
  {
   "cell_type": "markdown",
   "metadata": {},
   "source": [
    "# Exercícios\n",
    "\n",
    "## 1. Faturamento do Melhor e do Pior Mês do Ano\n",
    "\n",
    "Qual foi o valor de vendas do melhor mês do Ano?\n",
    "E valor do pior mês do ano?"
   ]
  },
  {
   "cell_type": "code",
   "execution_count": 43,
   "metadata": {},
   "outputs": [
    {
     "name": "stdout",
     "output_type": "stream",
     "text": [
      "49051\n",
      "9650\n"
     ]
    }
   ],
   "source": [
    "meses = ['jan', 'fev', 'mar', 'abr', 'mai', 'jun', 'jul', 'ago', 'set', 'out', 'nov', 'dez']\n",
    "vendas_1sem = [25000, 29000, 22200, 17750, 15870, 19900]\n",
    "vendas_2sem = [19850, 20120, 17540, 15555, 49051, 9650]\n",
    "vendas_anual = vendas_1sem + vendas_2sem\n",
    "\n",
    "maior_vendas = max(vendas_anual)\n",
    "\n",
    "menor_vendas = min(vendas_anual)\n",
    "\n",
    "print(maior_vendas)\n",
    "print(menor_vendas)\n",
    "\n"
   ]
  },
  {
   "cell_type": "markdown",
   "metadata": {},
   "source": [
    "## 2. Continuação\n",
    "\n",
    "Agora relacione as duas listas para printar 'O melhor mês do ano foi {} com {} vendas' e o mesmo para o pior mês do ano.\n",
    "\n",
    "Calcule também o faturamento total do Ano e quanto que o melhor mês representou do faturamento total.\n",
    "\n",
    "Obs: Para o faturamento total, pode usar a função sum(lista) que soma todos os itens de uma lista"
   ]
  },
  {
   "cell_type": "code",
   "execution_count": 44,
   "metadata": {},
   "outputs": [
    {
     "name": "stdout",
     "output_type": "stream",
     "text": [
      "O melhor mês do ano foi nov com 49051 vendas\n",
      "O pior mês do ano foi dez com 9650 vendas\n",
      " O faturamento total foi R$ 261,486\n",
      "O melhor mês representou 18.8% das vendas do ano todo.\n"
     ]
    }
   ],
   "source": [
    "i = vendas_anual.index(maior_vendas)\n",
    "\n",
    "melhor_mes = meses[i]\n",
    "\n",
    "\n",
    "print('O melhor mês do ano foi {} com {} vendas'.format(melhor_mes, maior_vendas))\n",
    "\n",
    "i = vendas_anual.index(menor_vendas)\n",
    "pior_mes = meses[i]\n",
    "\n",
    "print('O pior mês do ano foi {} com {} vendas' .format(pior_mes, menor_vendas))\n",
    "\n",
    "fat_total = sum(vendas_anual)\n",
    "print(' O faturamento total foi R$ {:,}'.format(fat_total))\n",
    "\n",
    "\n",
    "percentual = maior_vendas / fat_total\n",
    "print('O melhor mês representou {:.1%} das vendas do ano todo.'.format(percentual))"
   ]
  },
  {
   "cell_type": "markdown",
   "metadata": {},
   "source": [
    "## 3. Crie uma lista com o top 3 valores de vendas do ano (sem fazer \"no olho\")\n",
    "\n",
    "Dica: o método remove retira um item da lista."
   ]
  },
  {
   "cell_type": "code",
   "execution_count": 45,
   "metadata": {},
   "outputs": [
    {
     "name": "stdout",
     "output_type": "stream",
     "text": [
      "[49051, 29000, 25000]\n"
     ]
    }
   ],
   "source": [
    "top3 = []\n",
    "\n",
    "n_1 = max(vendas_anual)\n",
    "top3.append(n_1)\n",
    "vendas_anual.remove(n_1)\n",
    "\n",
    "n_2 = max(vendas_anual)\n",
    "top3.append(n_2)\n",
    "vendas_anual.remove(n_2)\n",
    "\n",
    "n_3 = max(vendas_anual)\n",
    "top3.append(n_3)\n",
    "vendas_anual.remove(n_3)\n",
    "\n",
    "print(top3)"
   ]
  }
 ],
 "metadata": {
  "kernelspec": {
   "display_name": "Python 3",
   "language": "python",
   "name": "python3"
  },
  "language_info": {
   "codemirror_mode": {
    "name": "ipython",
    "version": 3
   },
   "file_extension": ".py",
   "mimetype": "text/x-python",
   "name": "python",
   "nbconvert_exporter": "python",
   "pygments_lexer": "ipython3",
   "version": "3.8.8"
  }
 },
 "nbformat": 4,
 "nbformat_minor": 4
}
