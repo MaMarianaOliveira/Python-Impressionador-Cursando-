{
 "cells": [
  {
   "cell_type": "markdown",
   "metadata": {},
   "source": [
    "# Principal Aplicação de Lambda Expressions\n",
    "\n",
    "### Usar lambda como argumento de alguma outra função, como map e filter"
   ]
  },
  {
   "cell_type": "code",
   "execution_count": 7,
   "metadata": {},
   "outputs": [],
   "source": [
    "preco_tecnologia = {'notebook asus': 2450, 'iphone': 4500, 'samsung galaxy': 3000, 'tv samsung': 1000, 'ps5': 3000, 'tablet': 1000, 'notebook dell': 3000, 'ipad': 3000, 'tv philco': 800, 'notebook hp': 1700}"
   ]
  },
  {
   "cell_type": "markdown",
   "metadata": {},
   "source": [
    "### map()\n",
    "- Queremos saber o preço de cada produto adicionando o valor do imposto de 30% sobre o valor do produto"
   ]
  },
  {
   "cell_type": "code",
   "execution_count": 2,
   "metadata": {},
   "outputs": [
    {
     "name": "stdout",
     "output_type": "stream",
     "text": [
      "[3185.0, 5850.0, 3900.0, 1300.0, 3900.0, 1300.0, 3900.0, 3900.0, 1040.0, 2210.0]\n"
     ]
    }
   ],
   "source": [
    "#Fazendo por function\n",
    "       \n",
    "def calcular_preco(preco):\n",
    "    return preco * 1.3\n",
    "\n",
    "preco_imposto = map(calcular_preco, preco_tecnologia.values())\n",
    "\n",
    "print(list(preco_imposto))\n"
   ]
  },
  {
   "cell_type": "code",
   "execution_count": 8,
   "metadata": {},
   "outputs": [
    {
     "name": "stdout",
     "output_type": "stream",
     "text": [
      "[3185.0, 5850.0, 3900.0, 1300.0, 3900.0, 1300.0, 3900.0, 3900.0, 1040.0, 2210.0]\n"
     ]
    }
   ],
   "source": [
    "#fazendo por lambda\n",
    "preco_imposto2 = list(map( lambda preco: preco * 1.3, preco_tecnologia.values()))\n",
    "\n",
    "print(preco_imposto2)"
   ]
  },
  {
   "cell_type": "markdown",
   "metadata": {},
   "source": [
    "### filter()\n",
    "- Queremos apenas os produtos que custam acima de 2000"
   ]
  },
  {
   "cell_type": "raw",
   "metadata": {},
   "source": [
    "filter(função, iterable) -> retorna como resposta todos os itens do iterable onde a função é True"
   ]
  },
  {
   "cell_type": "code",
   "execution_count": 14,
   "metadata": {},
   "outputs": [
    {
     "name": "stdout",
     "output_type": "stream",
     "text": [
      "[('notebook asus', 2450), ('iphone', 4500), ('samsung galaxy', 3000), ('ps5', 3000), ('notebook dell', 3000), ('ipad', 3000)]\n"
     ]
    }
   ],
   "source": [
    "#fazendo por function\n",
    "\n",
    "#print(preco_tecnologia.items())\n",
    "\n",
    "def ehmaior2000(item):\n",
    "   return item[1] > 2000\n",
    "\n",
    "\n",
    "produtos_acima2000 = filter( ehmaior2000, preco_tecnologia.items())\n",
    "\n",
    "print(list(produtos_acima2000))"
   ]
  },
  {
   "cell_type": "code",
   "execution_count": 16,
   "metadata": {},
   "outputs": [
    {
     "name": "stdout",
     "output_type": "stream",
     "text": [
      "[('notebook asus', 2450), ('iphone', 4500), ('samsung galaxy', 3000), ('ps5', 3000), ('notebook dell', 3000), ('ipad', 3000)]\n"
     ]
    }
   ],
   "source": [
    "#fazendo por lambda\n",
    "ehmaior20002 = list(filter(lambda item : item[1] > 2000, preco_tecnologia.items()))\n",
    "\n",
    "print(ehmaior20002)"
   ]
  },
  {
   "cell_type": "code",
   "execution_count": 6,
   "metadata": {},
   "outputs": [
    {
     "name": "stdout",
     "output_type": "stream",
     "text": [
      "7\n"
     ]
    }
   ],
   "source": [
    "def f(x):\n",
    "    if (x==1 or x==2):\n",
    "        return 1\n",
    "    else:\n",
    "        return ((x-1)+(x-2))\n",
    "    \n",
    "print(f(5))\n"
   ]
  }
 ],
 "metadata": {
  "kernelspec": {
   "display_name": "Python 3",
   "language": "python",
   "name": "python3"
  },
  "language_info": {
   "codemirror_mode": {
    "name": "ipython",
    "version": 3
   },
   "file_extension": ".py",
   "mimetype": "text/x-python",
   "name": "python",
   "nbconvert_exporter": "python",
   "pygments_lexer": "ipython3",
   "version": "3.8.8"
  }
 },
 "nbformat": 4,
 "nbformat_minor": 4
}
