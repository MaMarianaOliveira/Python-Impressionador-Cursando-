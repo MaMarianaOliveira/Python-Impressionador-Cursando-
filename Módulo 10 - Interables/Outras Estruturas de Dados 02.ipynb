{
 "cells": [
  {
   "cell_type": "markdown",
   "metadata": {},
   "source": [
    "# Range\n",
    "\n",
    "### Estrutura:\n",
    "\n",
    "- range(tamanho)\n",
    "\n",
    "ou \n",
    "\n",
    "- range(inicio, fim)\n",
    "\n",
    "ou\n",
    "\n",
    "- range(inicio, fim, passo)"
   ]
  },
  {
   "cell_type": "code",
   "execution_count": 2,
   "metadata": {},
   "outputs": [
    {
     "name": "stdout",
     "output_type": "stream",
     "text": [
      "arroz : 50 unidades\n",
      "feijao : 100 unidades\n",
      "macarrao : 20 unidades\n",
      "atum : 5 unidades\n",
      "azeite : 80 unidades\n"
     ]
    }
   ],
   "source": [
    "#uso mais comum no for:\n",
    "produtos = ['arroz', 'feijao', 'macarrao', 'atum', 'azeite']\n",
    "estoque = [50, 100, 20, 5, 80]\n",
    "\n",
    "for i in range(5):\n",
    "    print('{} : {} unidades'.format(produtos[i], estoque[i]))\n",
    "    \n"
   ]
  },
  {
   "cell_type": "code",
   "execution_count": 4,
   "metadata": {},
   "outputs": [
    {
     "name": "stdout",
     "output_type": "stream",
     "text": [
      "1\n",
      "2\n",
      "3\n",
      "4\n",
      "5\n",
      "6\n",
      "7\n",
      "8\n",
      "9\n"
     ]
    }
   ],
   "source": [
    "#range com inicio e fim\n",
    "\n",
    "\n",
    "for i in range(1,10):\n",
    "    print(i)\n",
    "#vamos olhar no for para entender"
   ]
  },
  {
   "cell_type": "markdown",
   "metadata": {},
   "source": [
    "- Exemplo: Modelo Jack Welch da G&E\n",
    "\n",
    "    1. Classe A: 10% melhor\n",
    "    2. Classe B: 80% mantém/busca melhorar\n",
    "    3. Classe C: 10% pior\n",
    "    \n",
    "Quem são os funcionários classe B?"
   ]
  },
  {
   "cell_type": "code",
   "execution_count": 12,
   "metadata": {},
   "outputs": [
    {
     "name": "stdout",
     "output_type": "stream",
     "text": [
      "Funcionários Classe B: \n",
      "Antônio com 1500 vendas.\n",
      "João com 1200 vendas.\n",
      "Francisco com 1111 vendas.\n",
      "Ana com 1100 vendas.\n",
      "Luiz com 999 vendas.\n",
      "Paulo com 900 vendas.\n",
      "Carlos com 880 vendas.\n",
      "Manoel com 870 vendas.\n",
      "Pedro com 800 vendas.\n",
      "Francisca com 800 vendas.\n",
      "Marcos com 450 vendas.\n",
      "Raimundo com 400 vendas.\n",
      "Sebastião com 300 vendas.\n",
      "Antônia com 300 vendas.\n",
      "Marcelo com 120 vendas.\n",
      "Jorge com 90 vendas.\n"
     ]
    }
   ],
   "source": [
    "funcionarios = ['Maria', 'José', 'Antônio', 'João', 'Francisco', 'Ana', 'Luiz', 'Paulo', 'Carlos', 'Manoel', 'Pedro', 'Francisca', 'Marcos', 'Raimundo', 'Sebastião', 'Antônia', 'Marcelo', 'Jorge', 'Márcia', 'Geraldo']\n",
    "vendas = [2750, 1900, 1500, 1200, 1111, 1100, 999, 900, 880, 870, 800, 800, 450, 400, 300, 300, 120, 90, 80, 70]\n",
    "\n",
    "print('Funcionários Classe B: ')\n",
    "\n",
    "for i in range(2,18):\n",
    "    print('{} com {} vendas.'.format(funcionarios[i], vendas[i]))\n"
   ]
  },
  {
   "cell_type": "code",
   "execution_count": 13,
   "metadata": {},
   "outputs": [
    {
     "name": "stdout",
     "output_type": "stream",
     "text": [
      "Funcionários Classe B: \n",
      "Antônio com 1500 vendas.\n",
      "Francisco com 1111 vendas.\n",
      "Luiz com 999 vendas.\n",
      "Carlos com 880 vendas.\n",
      "Pedro com 800 vendas.\n",
      "Marcos com 450 vendas.\n",
      "Sebastião com 300 vendas.\n",
      "Marcelo com 120 vendas.\n"
     ]
    }
   ],
   "source": [
    "#range com passo\n",
    "print('Funcionários Classe B: ')\n",
    "\n",
    "for i in range(2,18, 2):\n",
    "    print('{} com {} vendas.'.format(funcionarios[i], vendas[i]))"
   ]
  }
 ],
 "metadata": {
  "kernelspec": {
   "display_name": "Python 3",
   "language": "python",
   "name": "python3"
  },
  "language_info": {
   "codemirror_mode": {
    "name": "ipython",
    "version": 3
   },
   "file_extension": ".py",
   "mimetype": "text/x-python",
   "name": "python",
   "nbconvert_exporter": "python",
   "pygments_lexer": "ipython3",
   "version": "3.8.8"
  }
 },
 "nbformat": 4,
 "nbformat_minor": 4
}
