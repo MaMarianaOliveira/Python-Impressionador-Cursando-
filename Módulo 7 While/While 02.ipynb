{
 "cells": [
  {
   "cell_type": "markdown",
   "metadata": {},
   "source": [
    "# Cuidado com o while -> Loop Infinito\n",
    "\n",
    "Sempre que for usar o comando while, lembre-se de ter certeza que o programa vai terminar em algum momento\n",
    "\n",
    "### Exemplo\n",
    "\n",
    "Digamos que temos uma lista de vendedores e as quantidades vendidas e queremos identificar todos os vendedores que bateram a meta de 50 vendas."
   ]
  },
  {
   "cell_type": "code",
   "execution_count": 4,
   "metadata": {},
   "outputs": [
    {
     "name": "stdout",
     "output_type": "stream",
     "text": [
      "Maria consegui bater a meta de 941 vendas.\n",
      "José consegui bater a meta de 852 vendas.\n",
      "Antônio consegui bater a meta de 783 vendas.\n",
      "João consegui bater a meta de 714 vendas.\n",
      "Francisco consegui bater a meta de 697 vendas.\n",
      "Ana consegui bater a meta de 686 vendas.\n",
      "Luiz consegui bater a meta de 685 vendas.\n",
      "Paulo consegui bater a meta de 670 vendas.\n",
      "Carlos consegui bater a meta de 631 vendas.\n",
      "Manoel consegui bater a meta de 453 vendas.\n",
      "Pedro consegui bater a meta de 386 vendas.\n",
      "Francisca consegui bater a meta de 371 vendas.\n",
      "Marcos consegui bater a meta de 294 vendas.\n",
      "Raimundo consegui bater a meta de 269 vendas.\n",
      "Sebastião consegui bater a meta de 259 vendas.\n",
      "Antônia consegui bater a meta de 218 vendas.\n",
      "Marcelo consegui bater a meta de 208 vendas.\n",
      "Jorge consegui bater a meta de 163 vendas.\n",
      "Márcia consegui bater a meta de 125 vendas.\n",
      "Geraldo consegui bater a meta de 102 vendas.\n",
      "Adriana consegui bater a meta de 87 vendas.\n"
     ]
    }
   ],
   "source": [
    "vendas = [941, 852, 783, 714, 697, 686, 685, 670, 631, 453, 386, 371, 294, 269, 259, 218, 208, 163, 125, 102, 87, 47, 7]\n",
    "vendedores = ['Maria', 'José', 'Antônio', 'João', 'Francisco', 'Ana', 'Luiz', 'Paulo', 'Carlos', 'Manoel', 'Pedro', 'Francisca', 'Marcos', 'Raimundo', 'Sebastião', 'Antônia', 'Marcelo', 'Jorge', 'Márcia', 'Geraldo', 'Adriana', 'Sandra', 'Luis']\n",
    "meta = 50\n",
    "\n",
    "i = 0\n",
    "\n",
    "\n",
    "while vendas[i] > meta:# aqui colocamos 'vendas[i]' pq ele identifica como indice, ou seja o indice 'i' que é igual a '0'\n",
    "    # identifica o '941' e compara com a variavel meta que é '50' e assim faz nos demais até a condição ser falsa e encerrar o while\n",
    "\n",
    "    \n",
    "    print('{} consegui bater a meta de {} vendas.' .format(vendedores[i], vendas[i]))\n",
    "    i += 1 # o while não é como o for que muda automaticamente o valor do 'i' por isso é necessário colocar o '+= 1' pq\n",
    "    # ele informa para o Python q deve alterar de indice('i'). Devido a essa alteração ele não cai num loop infinito"
   ]
  }
 ],
 "metadata": {
  "kernelspec": {
   "display_name": "Python 3",
   "language": "python",
   "name": "python3"
  },
  "language_info": {
   "codemirror_mode": {
    "name": "ipython",
    "version": 3
   },
   "file_extension": ".py",
   "mimetype": "text/x-python",
   "name": "python",
   "nbconvert_exporter": "python",
   "pygments_lexer": "ipython3",
   "version": "3.8.8"
  }
 },
 "nbformat": 4,
 "nbformat_minor": 4
}
