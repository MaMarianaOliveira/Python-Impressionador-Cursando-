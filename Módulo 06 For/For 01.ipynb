{
 "cells": [
  {
   "cell_type": "markdown",
   "metadata": {},
   "source": [
    "# Estrutura de Repetição: for\n",
    "\n",
    "### Funcionamento:"
   ]
  },
  {
   "cell_type": "raw",
   "metadata": {},
   "source": [
    "for i in range(n):\n",
    "    repetir código n vezes"
   ]
  },
  {
   "cell_type": "code",
   "execution_count": 2,
   "metadata": {},
   "outputs": [
    {
     "name": "stdout",
     "output_type": "stream",
     "text": [
      "Mari vc vai conseguir!!\n",
      "Mari vc vai conseguir!!\n",
      "Mari vc vai conseguir!!\n",
      "Mari vc vai conseguir!!\n",
      "Mari vc vai conseguir!!\n"
     ]
    }
   ],
   "source": [
    "for i in range(5): # essa letra 'i' significa o índice. Ex: o python ler a partir do 0, se eu colocasse  range(2) ele contaria 'i'= 0,1\n",
    "    print('Mari vc vai conseguir!!')# então ele percorre a 'qtd de indices' que nós colocarmos contando a partir do 0, isto é bom pra quando \n",
    "    #percorrer toda uma lista. Vejamos no exemplo abaixo."
   ]
  },
  {
   "cell_type": "markdown",
   "metadata": {},
   "source": [
    "- Imagine que você está construindo uma automação para enviar todo dia por e-mail um resumo da produção de uma fábrica. Construa um código que exiba a quantidade produzida de cada os produto nesse \"e-mail\""
   ]
  },
  {
   "cell_type": "code",
   "execution_count": null,
   "metadata": {},
   "outputs": [],
   "source": []
  },
  {
   "cell_type": "code",
   "execution_count": 7,
   "metadata": {},
   "outputs": [
    {
     "name": "stdout",
     "output_type": "stream",
     "text": [
      "15000 unidades produzidas de coca\n",
      "12000 unidades produzidas de pepsi\n",
      "13000 unidades produzidas de guarana\n",
      "5000 unidades produzidas de sprite\n"
     ]
    }
   ],
   "source": [
    "produtos = ['coca', 'pepsi', 'guarana', 'sprite']\n",
    "producao = [15000, 12000, 13000, 5000]\n",
    "\n",
    "tamanho = len(produtos)#nós utilizamos uma variavel com o comando 'len' pra descobrir a quantidade de ítens que tem em uma lista\n",
    "\n",
    "for i in range(tamanho):#colocamos esta variavel dentro do '() do ranger' para que assim ele automatize e percorra a lista toda mesmo se não saibamos a quantidade de ítens nesta lista.\n",
    "    print('{} unidades produzidas de {}'.format(producao[i],produtos[i]))"
   ]
  }
 ],
 "metadata": {
  "kernelspec": {
   "display_name": "Python 3",
   "language": "python",
   "name": "python3"
  },
  "language_info": {
   "codemirror_mode": {
    "name": "ipython",
    "version": 3
   },
   "file_extension": ".py",
   "mimetype": "text/x-python",
   "name": "python",
   "nbconvert_exporter": "python",
   "pygments_lexer": "ipython3",
   "version": "3.8.8"
  }
 },
 "nbformat": 4,
 "nbformat_minor": 4
}
