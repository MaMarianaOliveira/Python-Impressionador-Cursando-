{
 "cells": [
  {
   "cell_type": "markdown",
   "metadata": {},
   "source": [
    "# Exercícios"
   ]
  },
  {
   "cell_type": "markdown",
   "metadata": {},
   "source": [
    "## 1. Criando um mini sistema de controle de estoque\n",
    "\n",
    "- Crie um sistema para ser usado pelo time de controle de estoque de um centro de distribuição.\n",
    "- Imagine que ao fim de todo dia, o time conta quantas unidades de produto existem no estoque. Se tivermos um estoque abaixo do estoque permitido para aquela categoria do produto, o time deve ser avisado (print) para fazer um novo pedido daquele produto.\n",
    "- Cada categoria de produto tem um estoque mínimo diferente, segundo a regra abaixo:\n",
    "\n",
    "- alimentos -> Estoque mínimo: 50\n",
    "- bebidas -> Estoque mínimo: 75\n",
    "- limpeza -> Estoque mínimo: 30\n",
    "\n",
    "Para isso vamos criar um programa que pede 3 inputs do usuário: nome do produto, categoria e quantidade atual em estoque.\n",
    "\n",
    "Se o produto tiver abaixo do estoque mínimo da categoria dele, o programa deve printar a mensagem \"Solicitar {produto} à equipe de compras, temos apenas {unidades} em estoque\"\n",
    "\n",
    "Exemplo: Se o usuário preenche os inputs com: bebidas, dolly, 90, o programa não deve exibir nenhuma mensagem.<br>\n",
    "Agora, se o usuário preenche os inputs com: bebidas, guaraná, 60, o programa deve exibir a mensagem \"Solicitar guaraná à equipe de compras, temos apenas 60 unidades em estoque.\n",
    "\n",
    "Obs: lembre de usar o int() para transformar o número inserido pelo usuário no input de string para int.<br>\n",
    "Obs2: Caso o usuário não preencha alguma das 3 informações, o programa deve exibir uma mensagem para avisá-lo de preencher corretamente."
   ]
  },
  {
   "cell_type": "code",
   "execution_count": 25,
   "metadata": {},
   "outputs": [
    {
     "name": "stdout",
     "output_type": "stream",
     "text": [
      "Diga a categoria do produto: alimentos\n",
      "Diga o nome do produto: arroz\n",
      "Diga a quantidade em estoque:\n",
      "Por favor preencher corretamente!\n"
     ]
    }
   ],
   "source": [
    "#seu código aqui\n",
    "categoria = input('Diga a categoria do produto: ')\n",
    "nome_produto = input('Diga o nome do produto: ')\n",
    "quant_produto = input('Diga a quantidade em estoque:')\n",
    "\n",
    "estoque_bebida = 75\n",
    "estoque_alimento = 50\n",
    "estoque_limpeza = 30\n",
    "\n",
    "if categoria == '' or quant_produto == '' or nome_produto =='':\n",
    "    print('Por favor preencher corretamente!')\n",
    "    \n",
    "else:\n",
    "    \n",
    "\n",
    "    if 'bebidas' in categoria:\n",
    "        if int(quant_produto) < int(estoque_bebida):\n",
    "            print('Solicitar {} à equipe de compras, temos apenas {} em estoque.'.format(nome_produto, quant_produto))\n",
    "\n",
    "        else:\n",
    "            pass\n",
    "    if 'alimentos' in categoria:\n",
    "        if int(quant_produto) < int(estoque_alimento):\n",
    "            print('Solicitar {} à equipe de compras, temos apenas {} em estoque.'.format(nome_produto, quant_produto))\n",
    "\n",
    "        else:\n",
    "            pass\n",
    "    if 'limpeza' in categoria:\n",
    "        if int(quant_produto) < int(estoque_limpeza):\n",
    "            print('Solicitar {} à equipe de compras, temos apenas {} em estoque.'.format(nome_produto, quant_produto))\n",
    "\n",
    "        else:\n",
    "            pass"
   ]
  }
 ],
 "metadata": {
  "kernelspec": {
   "display_name": "Python 3",
   "language": "python",
   "name": "python3"
  },
  "language_info": {
   "codemirror_mode": {
    "name": "ipython",
    "version": 3
   },
   "file_extension": ".py",
   "mimetype": "text/x-python",
   "name": "python",
   "nbconvert_exporter": "python",
   "pygments_lexer": "ipython3",
   "version": "3.8.8"
  }
 },
 "nbformat": 4,
 "nbformat_minor": 4
}
