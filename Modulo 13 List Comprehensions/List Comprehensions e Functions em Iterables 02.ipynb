{
 "cells": [
  {
   "cell_type": "markdown",
   "metadata": {},
   "source": [
    "# Um exemplo prático de List Comprehension\n",
    "\n",
    "### O que faríamos se quisermos ordenar 2 listas \"relacionadas\""
   ]
  },
  {
   "cell_type": "code",
   "execution_count": 6,
   "metadata": {},
   "outputs": [
    {
     "name": "stdout",
     "output_type": "stream",
     "text": [
      "['microondas', 'iphone', 'vinho', 'cafeiteira']\n"
     ]
    }
   ],
   "source": [
    "vendas_produtos = [1500, 150, 2100, 1950] #presta atenção nos detalhes Marianaaaa!!\n",
    "produtos = ['vinho', 'cafeiteira', 'microondas', 'iphone']\n",
    "\n",
    "list_aux = list(zip( vendas_produtos, produtos))\n",
    "list_aux.sort(reverse = True)\n",
    "\n",
    "produtos =[produto for  vendas, produto in list_aux]\n",
    "print(produtos)"
   ]
  }
 ],
 "metadata": {
  "kernelspec": {
   "display_name": "Python 3",
   "language": "python",
   "name": "python3"
  },
  "language_info": {
   "codemirror_mode": {
    "name": "ipython",
    "version": 3
   },
   "file_extension": ".py",
   "mimetype": "text/x-python",
   "name": "python",
   "nbconvert_exporter": "python",
   "pygments_lexer": "ipython3",
   "version": "3.8.8"
  }
 },
 "nbformat": 4,
 "nbformat_minor": 4
}
