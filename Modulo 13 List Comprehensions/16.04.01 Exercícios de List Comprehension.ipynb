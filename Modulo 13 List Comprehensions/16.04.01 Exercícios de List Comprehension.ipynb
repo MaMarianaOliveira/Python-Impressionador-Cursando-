{
 "cells": [
  {
   "cell_type": "markdown",
   "metadata": {},
   "source": [
    "# Exercícios\n",
    "\n",
    "## 1. Tamanho do Pedido de Compras\n",
    "\n",
    "Nesse exercício vamos avaliar o estoque de uma empresa. Vamos considerar que todos os produtos dessa empresa são comprados em lotes de 500 unidades.\n",
    "\n",
    "- Caso o estoque esteja abaixo de 1000 unidades, devemos fazer um pedido de 500 unidades.\n",
    "- Caso o estoque esteja abaixo de 200 unidades, devemos fazer um pedido de 1000 unidades.\n",
    "\n",
    "Defina o valor a ser pedido de cada produto para enviar ao time de compras."
   ]
  },
  {
   "cell_type": "code",
   "execution_count": 3,
   "metadata": {},
   "outputs": [
    {
     "name": "stdout",
     "output_type": "stream",
     "text": [
      "[500, 500, 500, 500, 500, 500, 500, 500, 500, 500, 500, 500, 500, 500, 500, 500, 500, 1000, 1000, 500, 500, 500, 500, 1000, 500, 500, 500, 500, 1000, 500, 500, 1000, 500, 500, 500, 500, 500]\n"
     ]
    }
   ],
   "source": [
    "estoque = [('BSA2199',396),('PPF5239',251),('BSA1212',989),('PPF2154',449),('BEB3410',241),('PPF8999',527),('EMB9591',601),('BSA2006',314),('EMB3604',469),('EMB2070',733),('PPF9018',339),('PPF1468',906),('BSA5819',291),('PPF8666',850),('BEB2983',353),('BEB5877',456),('PPF5008',963),('PPF3877',185),('PPF7321',163),('BSA8833',644),('PPF4980',421),('PPF3063',757),('BSA2089',271),('BSA8398',180),('EMB4622',515),('EMB9814',563),('PPF3784',229),('PPF2398',270),('BEB3211',181),('PPF8655',459),('PPF1874',799),('PPF8789',126),('PPF6324',375),('EMB9290',883),('BSA5516',555),('BSA8451',243),('BSA8213',423)]\n",
    "\n",
    "\n",
    "lista = [ 1000 if valor < 200 else 500 for produto, valor in estoque]#por list comprehension\n",
    "print(lista)"
   ]
  },
  {
   "cell_type": "code",
   "execution_count": 5,
   "metadata": {},
   "outputs": [
    {
     "name": "stdout",
     "output_type": "stream",
     "text": [
      "[500, 500, 500, 500, 500, 500, 500, 500, 500, 500, 500, 500, 500, 500, 500, 500, 500, 1000, 1000, 500, 500, 500, 500, 1000, 500, 500, 500, 500, 1000, 500, 500, 1000, 500, 500, 500, 500, 500]\n"
     ]
    }
   ],
   "source": [
    "lista = [] #por for\n",
    "\n",
    "for produto, qtd in estoque:\n",
    "    if qtd < 200:\n",
    "        lista.append(1000)\n",
    "        \n",
    "    else:\n",
    "        lista.append(500)\n",
    "        \n",
    "print(lista)"
   ]
  }
 ],
 "metadata": {
  "kernelspec": {
   "display_name": "Python 3",
   "language": "python",
   "name": "python3"
  },
  "language_info": {
   "codemirror_mode": {
    "name": "ipython",
    "version": 3
   },
   "file_extension": ".py",
   "mimetype": "text/x-python",
   "name": "python",
   "nbconvert_exporter": "python",
   "pygments_lexer": "ipython3",
   "version": "3.8.8"
  }
 },
 "nbformat": 4,
 "nbformat_minor": 4
}
